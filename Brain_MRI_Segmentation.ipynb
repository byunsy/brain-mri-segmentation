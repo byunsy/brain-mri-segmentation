{
  "nbformat": 4,
  "nbformat_minor": 0,
  "metadata": {
    "colab": {
      "name": "Brain_MRI_Segmentation.ipynb",
      "provenance": [],
      "collapsed_sections": [],
      "authorship_tag": "ABX9TyNY5C+hmGwUJkDmZcM31cPi",
      "include_colab_link": true
    },
    "kernelspec": {
      "name": "python3",
      "display_name": "Python 3"
    }
  },
  "cells": [
    {
      "cell_type": "markdown",
      "metadata": {
        "id": "view-in-github",
        "colab_type": "text"
      },
      "source": [
        "<a href=\"https://colab.research.google.com/github/byunsy/brain-mri-segmentation/blob/main/Brain_MRI_Segmentation.ipynb\" target=\"_parent\"><img src=\"https://colab.research.google.com/assets/colab-badge.svg\" alt=\"Open In Colab\"/></a>"
      ]
    },
    {
      "cell_type": "markdown",
      "metadata": {
        "id": "wzB1NdxKj0hk"
      },
      "source": [
        "# Brain MRI Segmentation\r\n"
      ]
    },
    {
      "cell_type": "markdown",
      "metadata": {
        "id": "tOMGtN3wKBjr"
      },
      "source": [
        "## 01. Import Necessary Packages"
      ]
    },
    {
      "cell_type": "code",
      "metadata": {
        "id": "21kRemHqKFOE"
      },
      "source": [
        "import os\r\n",
        "import numpy as np\r\n",
        "import pandas as pd\r\n",
        "import matplotlib.pyplot as plt\r\n",
        "import seaborn as sns\r\n",
        "import zipfile\r\n",
        "import cv2\r\n",
        "from skimage import io"
      ],
      "execution_count": 1,
      "outputs": []
    },
    {
      "cell_type": "code",
      "metadata": {
        "id": "CLxn_m2VKRM4"
      },
      "source": [
        "import tensorflow as tf\r\n",
        "from tensorflow.python.keras import Sequential\r\n",
        "from tensorflow.keras import layers, optimizers\r\n",
        "from tensorflow.keras.layers import *\r\n",
        "from tensorflow.keras.models import Model\r\n",
        "from tensorflow.keras.initializers import glorot_uniform\r\n",
        "from tensorflow.keras.utils import plot_model\r\n",
        "from tensorflow.keras.callbacks import ReduceLROnPlateau, EarlyStopping, ModelCheckpoint, LearningRateScheduler\r\n",
        "import tensorflow.keras.backend as K"
      ],
      "execution_count": 2,
      "outputs": []
    },
    {
      "cell_type": "code",
      "metadata": {
        "id": "4uO7gs3iKSJx"
      },
      "source": [
        "import random\r\n",
        "import glob\r\n",
        "from sklearn.preprocessing import StandardScaler, normalize\r\n",
        "from IPython.display import display"
      ],
      "execution_count": 3,
      "outputs": []
    },
    {
      "cell_type": "markdown",
      "metadata": {
        "id": "k47fPnqjKWJM"
      },
      "source": [
        "## 02. Attain Dataset from Kaggle"
      ]
    },
    {
      "cell_type": "code",
      "metadata": {
        "id": "r_g0P3kxKbns"
      },
      "source": [
        "!pip install -q kaggle"
      ],
      "execution_count": 4,
      "outputs": []
    },
    {
      "cell_type": "code",
      "metadata": {
        "id": "d44c06kcKcKY"
      },
      "source": [
        "from google.colab import files\r\n",
        "files.upload()"
      ],
      "execution_count": null,
      "outputs": []
    },
    {
      "cell_type": "code",
      "metadata": {
        "id": "4MT-uQ6QKg-P"
      },
      "source": [
        "!mkdir ~/.kaggle\r\n",
        "!cp kaggle.json ~/.kaggle/"
      ],
      "execution_count": 6,
      "outputs": []
    },
    {
      "cell_type": "code",
      "metadata": {
        "id": "3YXYbJOwKoRR"
      },
      "source": [
        "!chmod 600 ~/.kaggle/kaggle.json"
      ],
      "execution_count": 7,
      "outputs": []
    },
    {
      "cell_type": "code",
      "metadata": {
        "colab": {
          "base_uri": "https://localhost:8080/"
        },
        "id": "VArXvJ9sKq6R",
        "outputId": "a716e22e-22de-4687-89e7-06cca6f2108d"
      },
      "source": [
        "!kaggle datasets download -d mateuszbuda/lgg-mri-segmentation"
      ],
      "execution_count": 8,
      "outputs": [
        {
          "output_type": "stream",
          "text": [
            "Downloading lgg-mri-segmentation.zip to /content\n",
            " 98% 697M/714M [00:05<00:00, 156MB/s]\n",
            "100% 714M/714M [00:06<00:00, 123MB/s]\n"
          ],
          "name": "stdout"
        }
      ]
    },
    {
      "cell_type": "code",
      "metadata": {
        "id": "zeK1-7V4Lru8"
      },
      "source": [
        "!unzip /content/lgg-mri-segmentation.zip"
      ],
      "execution_count": null,
      "outputs": []
    },
    {
      "cell_type": "markdown",
      "metadata": {
        "id": "D8tv2EglL92t"
      },
      "source": [
        "## 03. Understanding the Dataset"
      ]
    },
    {
      "cell_type": "code",
      "metadata": {
        "id": "-l5x15VvOP3l"
      },
      "source": [
        "base_dir = \"/content/kaggle_3m\""
      ],
      "execution_count": 58,
      "outputs": []
    },
    {
      "cell_type": "code",
      "metadata": {
        "id": "-qsBD9L47Epi"
      },
      "source": [
        "!rm -r /content/lgg-mri-segmentation"
      ],
      "execution_count": 62,
      "outputs": []
    },
    {
      "cell_type": "code",
      "metadata": {
        "colab": {
          "base_uri": "https://localhost:8080/"
        },
        "id": "3sXthrTaUtkV",
        "outputId": "debb90e9-f606-4068-85eb-74310e022946"
      },
      "source": [
        "data_map = []\r\n",
        "\r\n",
        "for sub_dir_path in glob.glob(os.path.join(base_dir, \"*\")):\r\n",
        "\r\n",
        "    try:\r\n",
        "        dir_name = sub_dir_path.split('/')[-1]\r\n",
        "        for filename in os.listdir(sub_dir_path):\r\n",
        "            image_path = sub_dir_path + '/' + filename\r\n",
        "            data_map.extend([dir_name, image_path])\r\n",
        "\r\n",
        "    except Exception as e:\r\n",
        "        print(e)"
      ],
      "execution_count": 63,
      "outputs": [
        {
          "output_type": "stream",
          "text": [
            "[Errno 20] Not a directory: '/content/kaggle_3m/data.csv'\n",
            "[Errno 20] Not a directory: '/content/kaggle_3m/README.md'\n"
          ],
          "name": "stdout"
        }
      ]
    },
    {
      "cell_type": "code",
      "metadata": {
        "id": "brsnaJbE9a4e"
      },
      "source": [
        "data_map[:20]"
      ],
      "execution_count": null,
      "outputs": []
    },
    {
      "cell_type": "code",
      "metadata": {
        "colab": {
          "base_uri": "https://localhost:8080/",
          "height": 419
        },
        "id": "i8lDlNAE7dpZ",
        "outputId": "de4895cd-57ee-4fd5-ed91-1a15feb410f7"
      },
      "source": [
        "df = pd.DataFrame({\"patient_id\" : data_map[::2],\r\n",
        "                   \"path\" : data_map[1::2]})\r\n",
        "df"
      ],
      "execution_count": 88,
      "outputs": [
        {
          "output_type": "execute_result",
          "data": {
            "text/html": [
              "<div>\n",
              "<style scoped>\n",
              "    .dataframe tbody tr th:only-of-type {\n",
              "        vertical-align: middle;\n",
              "    }\n",
              "\n",
              "    .dataframe tbody tr th {\n",
              "        vertical-align: top;\n",
              "    }\n",
              "\n",
              "    .dataframe thead th {\n",
              "        text-align: right;\n",
              "    }\n",
              "</style>\n",
              "<table border=\"1\" class=\"dataframe\">\n",
              "  <thead>\n",
              "    <tr style=\"text-align: right;\">\n",
              "      <th></th>\n",
              "      <th>patient_id</th>\n",
              "      <th>path</th>\n",
              "    </tr>\n",
              "  </thead>\n",
              "  <tbody>\n",
              "    <tr>\n",
              "      <th>0</th>\n",
              "      <td>TCGA_DU_7306_19930512</td>\n",
              "      <td>/content/kaggle_3m/TCGA_DU_7306_19930512/TCGA_...</td>\n",
              "    </tr>\n",
              "    <tr>\n",
              "      <th>1</th>\n",
              "      <td>TCGA_DU_7306_19930512</td>\n",
              "      <td>/content/kaggle_3m/TCGA_DU_7306_19930512/TCGA_...</td>\n",
              "    </tr>\n",
              "    <tr>\n",
              "      <th>2</th>\n",
              "      <td>TCGA_DU_7306_19930512</td>\n",
              "      <td>/content/kaggle_3m/TCGA_DU_7306_19930512/TCGA_...</td>\n",
              "    </tr>\n",
              "    <tr>\n",
              "      <th>3</th>\n",
              "      <td>TCGA_DU_7306_19930512</td>\n",
              "      <td>/content/kaggle_3m/TCGA_DU_7306_19930512/TCGA_...</td>\n",
              "    </tr>\n",
              "    <tr>\n",
              "      <th>4</th>\n",
              "      <td>TCGA_DU_7306_19930512</td>\n",
              "      <td>/content/kaggle_3m/TCGA_DU_7306_19930512/TCGA_...</td>\n",
              "    </tr>\n",
              "    <tr>\n",
              "      <th>...</th>\n",
              "      <td>...</td>\n",
              "      <td>...</td>\n",
              "    </tr>\n",
              "    <tr>\n",
              "      <th>7853</th>\n",
              "      <td>TCGA_DU_5854_19951104</td>\n",
              "      <td>/content/kaggle_3m/TCGA_DU_5854_19951104/TCGA_...</td>\n",
              "    </tr>\n",
              "    <tr>\n",
              "      <th>7854</th>\n",
              "      <td>TCGA_DU_5854_19951104</td>\n",
              "      <td>/content/kaggle_3m/TCGA_DU_5854_19951104/TCGA_...</td>\n",
              "    </tr>\n",
              "    <tr>\n",
              "      <th>7855</th>\n",
              "      <td>TCGA_DU_5854_19951104</td>\n",
              "      <td>/content/kaggle_3m/TCGA_DU_5854_19951104/TCGA_...</td>\n",
              "    </tr>\n",
              "    <tr>\n",
              "      <th>7856</th>\n",
              "      <td>TCGA_DU_5854_19951104</td>\n",
              "      <td>/content/kaggle_3m/TCGA_DU_5854_19951104/TCGA_...</td>\n",
              "    </tr>\n",
              "    <tr>\n",
              "      <th>7857</th>\n",
              "      <td>TCGA_DU_5854_19951104</td>\n",
              "      <td>/content/kaggle_3m/TCGA_DU_5854_19951104/TCGA_...</td>\n",
              "    </tr>\n",
              "  </tbody>\n",
              "</table>\n",
              "<p>7858 rows × 2 columns</p>\n",
              "</div>"
            ],
            "text/plain": [
              "                 patient_id                                               path\n",
              "0     TCGA_DU_7306_19930512  /content/kaggle_3m/TCGA_DU_7306_19930512/TCGA_...\n",
              "1     TCGA_DU_7306_19930512  /content/kaggle_3m/TCGA_DU_7306_19930512/TCGA_...\n",
              "2     TCGA_DU_7306_19930512  /content/kaggle_3m/TCGA_DU_7306_19930512/TCGA_...\n",
              "3     TCGA_DU_7306_19930512  /content/kaggle_3m/TCGA_DU_7306_19930512/TCGA_...\n",
              "4     TCGA_DU_7306_19930512  /content/kaggle_3m/TCGA_DU_7306_19930512/TCGA_...\n",
              "...                     ...                                                ...\n",
              "7853  TCGA_DU_5854_19951104  /content/kaggle_3m/TCGA_DU_5854_19951104/TCGA_...\n",
              "7854  TCGA_DU_5854_19951104  /content/kaggle_3m/TCGA_DU_5854_19951104/TCGA_...\n",
              "7855  TCGA_DU_5854_19951104  /content/kaggle_3m/TCGA_DU_5854_19951104/TCGA_...\n",
              "7856  TCGA_DU_5854_19951104  /content/kaggle_3m/TCGA_DU_5854_19951104/TCGA_...\n",
              "7857  TCGA_DU_5854_19951104  /content/kaggle_3m/TCGA_DU_5854_19951104/TCGA_...\n",
              "\n",
              "[7858 rows x 2 columns]"
            ]
          },
          "metadata": {
            "tags": []
          },
          "execution_count": 88
        }
      ]
    },
    {
      "cell_type": "code",
      "metadata": {
        "id": "x2fPKaxB_tb6"
      },
      "source": [
        "df_imgs = df[~df['path'].str.contains(\"mask\")]\r\n",
        "df_masks = df[df['path'].str.contains(\"mask\")]"
      ],
      "execution_count": 89,
      "outputs": []
    },
    {
      "cell_type": "code",
      "metadata": {
        "colab": {
          "base_uri": "https://localhost:8080/"
        },
        "id": "_zF-dsvf_yQR",
        "outputId": "abd827ef-0cf5-48ac-afef-c7a23a455427"
      },
      "source": [
        "print(len(df_imgs))\r\n",
        "print(len(df_masks))"
      ],
      "execution_count": 90,
      "outputs": [
        {
          "output_type": "stream",
          "text": [
            "3929\n",
            "3929\n"
          ],
          "name": "stdout"
        }
      ]
    },
    {
      "cell_type": "code",
      "metadata": {
        "colab": {
          "base_uri": "https://localhost:8080/"
        },
        "id": "TO_CHmtJJpQd",
        "outputId": "090a70b8-7bd3-43f8-e8ef-0b94a6bd23fb"
      },
      "source": [
        "data_map[:5]"
      ],
      "execution_count": 103,
      "outputs": [
        {
          "output_type": "execute_result",
          "data": {
            "text/plain": [
              "['TCGA_DU_7306_19930512',\n",
              " '/content/kaggle_3m/TCGA_DU_7306_19930512/TCGA_DU_7306_19930512_29.tif',\n",
              " 'TCGA_DU_7306_19930512',\n",
              " '/content/kaggle_3m/TCGA_DU_7306_19930512/TCGA_DU_7306_19930512_36.tif',\n",
              " 'TCGA_DU_7306_19930512']"
            ]
          },
          "metadata": {
            "tags": []
          },
          "execution_count": 103
        }
      ]
    },
    {
      "cell_type": "code",
      "metadata": {
        "colab": {
          "base_uri": "https://localhost:8080/"
        },
        "id": "0ZSH0QaVJyPe",
        "outputId": "c1378c19-77fe-43ec-89bc-ac3c6d359bb1"
      },
      "source": [
        "len(\"/content/kaggle_3m/TCGA_DU_7306_19930512/TCGA_DU_7306_19930512_\")"
      ],
      "execution_count": 106,
      "outputs": [
        {
          "output_type": "execute_result",
          "data": {
            "text/plain": [
              "63"
            ]
          },
          "metadata": {
            "tags": []
          },
          "execution_count": 106
        }
      ]
    },
    {
      "cell_type": "code",
      "metadata": {
        "id": "QpNQIcFaG4pQ"
      },
      "source": [
        "# File path line length images for later sorting\r\n",
        "BASE_LEN = 63 \r\n",
        "END_IMG_LEN = 4 \r\n",
        "END_MASK_LEN = 9\r\n",
        "\r\n",
        "# Data sorting\r\n",
        "imgs = sorted(df_imgs[\"path\"].values, key=lambda x : int(x[BASE_LEN:-END_IMG_LEN]))\r\n",
        "masks = sorted(df_masks[\"path\"].values, key=lambda x : int(x[BASE_LEN:-END_MASK_LEN]))"
      ],
      "execution_count": 110,
      "outputs": []
    },
    {
      "cell_type": "code",
      "metadata": {
        "colab": {
          "base_uri": "https://localhost:8080/",
          "height": 439
        },
        "id": "-yhnh1_iIjVy",
        "outputId": "7bc85851-5d04-4a95-ae72-c7c8a24406a9"
      },
      "source": [
        "# Final dataframe\r\n",
        "brain_df = pd.DataFrame({\"patient_id\": df_imgs.patient_id.values,\r\n",
        "                         \"image_path\": imgs,\r\n",
        "                         \"mask_path\": masks\r\n",
        "                        })\r\n",
        "def pos_neg_diagnosis(mask_path):\r\n",
        "    value = np.max(cv2.imread(mask_path))\r\n",
        "    if value > 0 : \r\n",
        "        return 1\r\n",
        "    else:\r\n",
        "        return 0\r\n",
        "    \r\n",
        "brain_df['mask'] = brain_df['mask_path'].apply(lambda x: pos_neg_diagnosis(x))\r\n",
        "brain_df"
      ],
      "execution_count": 111,
      "outputs": [
        {
          "output_type": "execute_result",
          "data": {
            "text/html": [
              "<div>\n",
              "<style scoped>\n",
              "    .dataframe tbody tr th:only-of-type {\n",
              "        vertical-align: middle;\n",
              "    }\n",
              "\n",
              "    .dataframe tbody tr th {\n",
              "        vertical-align: top;\n",
              "    }\n",
              "\n",
              "    .dataframe thead th {\n",
              "        text-align: right;\n",
              "    }\n",
              "</style>\n",
              "<table border=\"1\" class=\"dataframe\">\n",
              "  <thead>\n",
              "    <tr style=\"text-align: right;\">\n",
              "      <th></th>\n",
              "      <th>patient_id</th>\n",
              "      <th>image_path</th>\n",
              "      <th>mask_path</th>\n",
              "      <th>mask</th>\n",
              "    </tr>\n",
              "  </thead>\n",
              "  <tbody>\n",
              "    <tr>\n",
              "      <th>0</th>\n",
              "      <td>TCGA_DU_7306_19930512</td>\n",
              "      <td>/content/kaggle_3m/TCGA_DU_7306_19930512/TCGA_...</td>\n",
              "      <td>/content/kaggle_3m/TCGA_DU_7306_19930512/TCGA_...</td>\n",
              "      <td>0</td>\n",
              "    </tr>\n",
              "    <tr>\n",
              "      <th>1</th>\n",
              "      <td>TCGA_DU_7306_19930512</td>\n",
              "      <td>/content/kaggle_3m/TCGA_DU_8167_19970402/TCGA_...</td>\n",
              "      <td>/content/kaggle_3m/TCGA_DU_8167_19970402/TCGA_...</td>\n",
              "      <td>0</td>\n",
              "    </tr>\n",
              "    <tr>\n",
              "      <th>2</th>\n",
              "      <td>TCGA_DU_7306_19930512</td>\n",
              "      <td>/content/kaggle_3m/TCGA_FG_6692_20020606/TCGA_...</td>\n",
              "      <td>/content/kaggle_3m/TCGA_FG_6692_20020606/TCGA_...</td>\n",
              "      <td>0</td>\n",
              "    </tr>\n",
              "    <tr>\n",
              "      <th>3</th>\n",
              "      <td>TCGA_DU_7306_19930512</td>\n",
              "      <td>/content/kaggle_3m/TCGA_HT_7879_19981009/TCGA_...</td>\n",
              "      <td>/content/kaggle_3m/TCGA_HT_7879_19981009/TCGA_...</td>\n",
              "      <td>0</td>\n",
              "    </tr>\n",
              "    <tr>\n",
              "      <th>4</th>\n",
              "      <td>TCGA_DU_7306_19930512</td>\n",
              "      <td>/content/kaggle_3m/TCGA_DU_8164_19970111/TCGA_...</td>\n",
              "      <td>/content/kaggle_3m/TCGA_DU_8164_19970111/TCGA_...</td>\n",
              "      <td>0</td>\n",
              "    </tr>\n",
              "    <tr>\n",
              "      <th>...</th>\n",
              "      <td>...</td>\n",
              "      <td>...</td>\n",
              "      <td>...</td>\n",
              "      <td>...</td>\n",
              "    </tr>\n",
              "    <tr>\n",
              "      <th>3924</th>\n",
              "      <td>TCGA_DU_5854_19951104</td>\n",
              "      <td>/content/kaggle_3m/TCGA_HT_A61B_19991127/TCGA_...</td>\n",
              "      <td>/content/kaggle_3m/TCGA_HT_A61B_19991127/TCGA_...</td>\n",
              "      <td>0</td>\n",
              "    </tr>\n",
              "    <tr>\n",
              "      <th>3925</th>\n",
              "      <td>TCGA_DU_5854_19951104</td>\n",
              "      <td>/content/kaggle_3m/TCGA_HT_A61A_20000127/TCGA_...</td>\n",
              "      <td>/content/kaggle_3m/TCGA_HT_A61A_20000127/TCGA_...</td>\n",
              "      <td>0</td>\n",
              "    </tr>\n",
              "    <tr>\n",
              "      <th>3926</th>\n",
              "      <td>TCGA_DU_5854_19951104</td>\n",
              "      <td>/content/kaggle_3m/TCGA_HT_A61B_19991127/TCGA_...</td>\n",
              "      <td>/content/kaggle_3m/TCGA_HT_A61B_19991127/TCGA_...</td>\n",
              "      <td>0</td>\n",
              "    </tr>\n",
              "    <tr>\n",
              "      <th>3927</th>\n",
              "      <td>TCGA_DU_5854_19951104</td>\n",
              "      <td>/content/kaggle_3m/TCGA_HT_A61A_20000127/TCGA_...</td>\n",
              "      <td>/content/kaggle_3m/TCGA_HT_A61A_20000127/TCGA_...</td>\n",
              "      <td>0</td>\n",
              "    </tr>\n",
              "    <tr>\n",
              "      <th>3928</th>\n",
              "      <td>TCGA_DU_5854_19951104</td>\n",
              "      <td>/content/kaggle_3m/TCGA_HT_A61B_19991127/TCGA_...</td>\n",
              "      <td>/content/kaggle_3m/TCGA_HT_A61B_19991127/TCGA_...</td>\n",
              "      <td>0</td>\n",
              "    </tr>\n",
              "  </tbody>\n",
              "</table>\n",
              "<p>3929 rows × 4 columns</p>\n",
              "</div>"
            ],
            "text/plain": [
              "                 patient_id  ... mask\n",
              "0     TCGA_DU_7306_19930512  ...    0\n",
              "1     TCGA_DU_7306_19930512  ...    0\n",
              "2     TCGA_DU_7306_19930512  ...    0\n",
              "3     TCGA_DU_7306_19930512  ...    0\n",
              "4     TCGA_DU_7306_19930512  ...    0\n",
              "...                     ...  ...  ...\n",
              "3924  TCGA_DU_5854_19951104  ...    0\n",
              "3925  TCGA_DU_5854_19951104  ...    0\n",
              "3926  TCGA_DU_5854_19951104  ...    0\n",
              "3927  TCGA_DU_5854_19951104  ...    0\n",
              "3928  TCGA_DU_5854_19951104  ...    0\n",
              "\n",
              "[3929 rows x 4 columns]"
            ]
          },
          "metadata": {
            "tags": []
          },
          "execution_count": 111
        }
      ]
    }
  ]
}